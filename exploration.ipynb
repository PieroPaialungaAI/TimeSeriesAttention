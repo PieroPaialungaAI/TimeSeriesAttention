{
 "cells": [
  {
   "cell_type": "code",
   "execution_count": 1,
   "metadata": {},
   "outputs": [
    {
     "name": "stdout",
     "output_type": "stream",
     "text": [
      "Epoch  1 | Train Loss: 0.6925 | Val Loss: 0.6902\n",
      "Epoch  2 | Train Loss: 0.6835 | Val Loss: 0.6829\n",
      "Epoch  3 | Train Loss: 0.6755 | Val Loss: 0.6783\n",
      "Epoch  4 | Train Loss: 0.6678 | Val Loss: 0.6761\n",
      "Epoch  5 | Train Loss: 0.6654 | Val Loss: 0.6663\n",
      "Epoch  6 | Train Loss: 0.6566 | Val Loss: 0.6634\n",
      "Epoch  7 | Train Loss: 0.6443 | Val Loss: 0.6471\n",
      "Epoch  8 | Train Loss: 0.6391 | Val Loss: 0.6446\n",
      "Epoch  9 | Train Loss: 0.6289 | Val Loss: 0.6277\n",
      "Epoch 10 | Train Loss: 0.6051 | Val Loss: 0.6139\n",
      "Epoch 11 | Train Loss: 0.5508 | Val Loss: 0.5643\n",
      "Epoch 12 | Train Loss: 0.5551 | Val Loss: 0.5204\n",
      "Epoch 13 | Train Loss: 0.4519 | Val Loss: 0.3916\n",
      "Epoch 14 | Train Loss: 0.4098 | Val Loss: 0.3853\n",
      "Epoch 15 | Train Loss: 0.3471 | Val Loss: 0.3499\n",
      "Epoch 16 | Train Loss: 0.3314 | Val Loss: 0.4724\n",
      "Epoch 17 | Train Loss: 0.4503 | Val Loss: 0.3849\n",
      "Epoch 18 | Train Loss: 0.3231 | Val Loss: 0.3037\n",
      "Epoch 19 | Train Loss: 0.3356 | Val Loss: 0.3402\n",
      "Epoch 20 | Train Loss: 0.3139 | Val Loss: 0.3073\n",
      "Epoch 21 | Train Loss: 0.2913 | Val Loss: 0.2684\n",
      "Epoch 22 | Train Loss: 0.2486 | Val Loss: 0.2360\n",
      "Epoch 23 | Train Loss: 0.2331 | Val Loss: 0.2308\n",
      "Epoch 24 | Train Loss: 0.2226 | Val Loss: 0.1766\n",
      "Epoch 25 | Train Loss: 0.1983 | Val Loss: 0.1915\n",
      "Epoch 26 | Train Loss: 0.1811 | Val Loss: 0.1439\n",
      "Epoch 27 | Train Loss: 0.1774 | Val Loss: 0.1479\n",
      "Epoch 28 | Train Loss: 0.1725 | Val Loss: 0.1463\n",
      "Epoch 29 | Train Loss: 0.1586 | Val Loss: 0.1349\n",
      "Epoch 30 | Train Loss: 0.1401 | Val Loss: 0.1008\n",
      "Epoch 31 | Train Loss: 0.1757 | Val Loss: 0.1095\n",
      "Epoch 32 | Train Loss: 0.1283 | Val Loss: 0.0960\n",
      "Epoch 33 | Train Loss: 0.1167 | Val Loss: 0.0784\n",
      "Epoch 34 | Train Loss: 0.1059 | Val Loss: 0.0920\n",
      "Epoch 35 | Train Loss: 0.1078 | Val Loss: 0.0918\n",
      "Epoch 36 | Train Loss: 0.1165 | Val Loss: 0.1056\n",
      "Epoch 37 | Train Loss: 0.1192 | Val Loss: 0.0861\n",
      "Epoch 38 | Train Loss: 0.0964 | Val Loss: 0.0634\n",
      "Epoch 39 | Train Loss: 0.1008 | Val Loss: 0.0908\n",
      "Epoch 40 | Train Loss: 0.0966 | Val Loss: 0.0882\n",
      "Epoch 41 | Train Loss: 0.1066 | Val Loss: 0.0785\n",
      "Epoch 42 | Train Loss: 0.1098 | Val Loss: 0.0857\n",
      "Epoch 43 | Train Loss: 0.0951 | Val Loss: 0.0642\n",
      "Early stopping triggered at epoch 43\n",
      "Best model loaded.\n"
     ]
    }
   ],
   "source": [
    "from data import * \n",
    "from model import *\n",
    "data = Dataset()\n",
    "data.to_torch()\n",
    "data.train_val_test_split()\n",
    "model = AttentionModel()\n",
    "model.train_model(data=data)"
   ]
  },
  {
   "cell_type": "code",
   "execution_count": 46,
   "metadata": {},
   "outputs": [],
   "source": [
    "import matplotlib.pyplot as plt\n",
    "import numpy as np\n",
    "import torch\n",
    "\n",
    "def plot_attention(sample_X, attention_weights, title=\"Attention over Time\", save_path=None):\n",
    "    \"\"\"\n",
    "    Visualizes attention weights over the input time series.\n",
    "\n",
    "    Args:\n",
    "        sample_X: torch.Tensor or np.array of shape (seq_len, 1)\n",
    "        attention_weights: torch.Tensor or np.array of shape (seq_len,)\n",
    "        title: plot title\n",
    "        save_path: optional path to save the figure\n",
    "    \"\"\"\n",
    "    if isinstance(sample_X, torch.Tensor):\n",
    "        sample_X = sample_X.detach().cpu().numpy().squeeze()\n",
    "    if isinstance(attention_weights, torch.Tensor):\n",
    "        attention_weights = attention_weights.detach().cpu().numpy().squeeze()\n",
    "\n",
    "    seq_len = len(sample_X)\n",
    "    time_steps = np.arange(seq_len)\n",
    "\n",
    "    fig, ax1 = plt.subplots(figsize=(10, 4))\n",
    "\n",
    "    ax1.set_title(title)\n",
    "    ax1.set_xlabel(\"Time Step\")\n",
    "    ax1.set_ylabel(\"Signal\", color='blue')\n",
    "    ax1.plot(time_steps, sample_X, color='blue', linewidth=2)\n",
    "    ax1.tick_params(axis='y', labelcolor='blue')\n",
    "\n",
    "    ax2 = ax1.twinx()\n",
    "    ax2.set_ylabel(\"Attention\", color='red')\n",
    "    ax2.plot(time_steps, attention_weights*10, color='red', linestyle='--', alpha=0.7)\n",
    "    ax2.tick_params(axis='y', labelcolor='red')\n",
    "    ax2.set_ylim(0, 1.1)\n",
    "\n",
    "    plt.tight_layout()\n",
    "    if save_path:\n",
    "        plt.savefig(save_path)\n",
    "    plt.show()\n"
   ]
  },
  {
   "cell_type": "code",
   "execution_count": 1,
   "metadata": {},
   "outputs": [
    {
     "ename": "NameError",
     "evalue": "name 'model' is not defined",
     "output_type": "error",
     "traceback": [
      "\u001b[0;31m---------------------------------------------------------------------------\u001b[0m",
      "\u001b[0;31mNameError\u001b[0m                                 Traceback (most recent call last)",
      "Cell \u001b[0;32mIn[1], line 1\u001b[0m\n\u001b[0;32m----> 1\u001b[0m \u001b[43mmodel\u001b[49m\u001b[38;5;241m.\u001b[39meval()\n\u001b[1;32m      2\u001b[0m k \u001b[38;5;241m=\u001b[39m \u001b[38;5;241m0\u001b[39m\n\u001b[1;32m      3\u001b[0m \u001b[38;5;28;01mwith\u001b[39;00m torch\u001b[38;5;241m.\u001b[39mno_grad():\n",
      "\u001b[0;31mNameError\u001b[0m: name 'model' is not defined"
     ]
    }
   ],
   "source": [
    "model.eval()\n",
    "k = 0\n",
    "with torch.no_grad():\n",
    "    for batch_X, batch_Y in data.val_loader:\n",
    "        batch_X = batch_X.to('cpu')\n",
    "        outputs, attn_weights = model(batch_X)\n",
    "\n",
    "        # Let's plot the first sample in the batch\n",
    "        plot_attention(batch_X[k], attn_weights[k], title=\"Example Attention\")\n",
    "        break\n"
   ]
  },
  {
   "cell_type": "code",
   "execution_count": 42,
   "metadata": {},
   "outputs": [],
   "source": [
    "from sklearn.metrics import accuracy_score, precision_score, recall_score, f1_score, confusion_matrix, roc_auc_score\n",
    "\n",
    "def evaluate_model(model, dataloader, device=\"cpu\"):\n",
    "    model.eval()\n",
    "\n",
    "    all_preds = []\n",
    "    all_labels = []\n",
    "\n",
    "    with torch.no_grad():\n",
    "        for batch_X, batch_Y in dataloader:\n",
    "            batch_X = batch_X.to(device)\n",
    "            batch_Y = batch_Y.to(device)\n",
    "\n",
    "            outputs, _ = model(batch_X)\n",
    "            preds = (outputs > 0.5).float()  # binary thresholding\n",
    "\n",
    "            all_preds.extend(preds.cpu().numpy())\n",
    "            all_labels.extend(batch_Y.cpu().numpy())\n",
    "\n",
    "    all_preds = np.array(all_preds).flatten()\n",
    "    all_labels = np.array(all_labels).flatten()\n",
    "\n",
    "    acc = accuracy_score(all_labels, all_preds)\n",
    "    prec = precision_score(all_labels, all_preds, zero_division=0)\n",
    "    rec = recall_score(all_labels, all_preds)\n",
    "    f1 = f1_score(all_labels, all_preds)\n",
    "    auc = roc_auc_score(all_labels, all_preds)\n",
    "\n",
    "    print(f\"Accuracy      : {acc:.4f}\")\n",
    "    print(f\"Precision     : {prec:.4f}\")\n",
    "    print(f\"Recall        : {rec:.4f}\")\n",
    "    print(f\"F1 Score      : {f1:.4f}\")\n",
    "    print(f\"ROC AUC Score : {auc:.4f}\")\n",
    "    print(\"\\nConfusion Matrix:\")\n",
    "    print(confusion_matrix(all_labels, all_preds))\n"
   ]
  },
  {
   "cell_type": "code",
   "execution_count": 44,
   "metadata": {},
   "outputs": [
    {
     "name": "stdout",
     "output_type": "stream",
     "text": [
      "Accuracy      : 0.9710\n",
      "Precision     : 0.9936\n",
      "Recall        : 0.9472\n",
      "F1 Score      : 0.9699\n",
      "ROC AUC Score : 0.9706\n",
      "\n",
      "Confusion Matrix:\n",
      "[[1009    6]\n",
      " [  52  933]]\n"
     ]
    }
   ],
   "source": [
    "test_loader = data.test_loader\n",
    "evaluate_model(model, test_loader, device='cpu')\n"
   ]
  },
  {
   "cell_type": "code",
   "execution_count": null,
   "metadata": {},
   "outputs": [],
   "source": []
  }
 ],
 "metadata": {
  "kernelspec": {
   "display_name": "Python 3",
   "language": "python",
   "name": "python3"
  },
  "language_info": {
   "codemirror_mode": {
    "name": "ipython",
    "version": 3
   },
   "file_extension": ".py",
   "mimetype": "text/x-python",
   "name": "python",
   "nbconvert_exporter": "python",
   "pygments_lexer": "ipython3",
   "version": "3.10.6"
  }
 },
 "nbformat": 4,
 "nbformat_minor": 2
}
